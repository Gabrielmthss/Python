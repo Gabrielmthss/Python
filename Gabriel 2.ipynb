{
 "cells": [
  {
   "cell_type": "code",
   "execution_count": 53,
   "metadata": {},
   "outputs": [],
   "source": [
    "import pandas as pd\n",
    "import os"
   ]
  },
  {
   "cell_type": "code",
   "execution_count": 54,
   "metadata": {},
   "outputs": [],
   "source": [
    "# Carrega o arquivo Excel\n",
    "caminho_arquivo = '/Users/gabrielmatheus/Downloads/Arquivos rio brasa.xlsx'\n",
    "df = pd.read_excel(caminho_arquivo, dtype=str)  # Certifica-se de ler todos os dados como strings\n",
    "\n",
    "# Local geral para salvar o arquivo consolidado\n",
    "caminho_saida = '/Users/gabrielmatheus/Downloads/linhas_filtradas.txt'"
   ]
  },
  {
   "cell_type": "code",
   "execution_count": 55,
   "metadata": {},
   "outputs": [],
   "source": [
    "# Lista de palavras-chave para processamento\n",
    "palavras_chave = ['dre', 'balanço', 'contabilidade', 'wagdy', 'cnh'] # (SEMPRE MINUSCULO)"
   ]
  },
  {
   "cell_type": "code",
   "execution_count": 56,
   "metadata": {},
   "outputs": [
    {
     "name": "stdout",
     "output_type": "stream",
     "text": [
      "Palavras-chave encontradas e salvas no arquivo: dre, balanço, contabilidade, wagdy, cnh\n"
     ]
    }
   ],
   "source": [
    "# Abre o arquivo geral para escrita com codificação UTF-8\n",
    "with open(caminho_saida, 'w', encoding='utf-8') as file:\n",
    "    found_any = False\n",
    "    palavras_salvas = []  # Lista para armazenar palavras-chave com resultados\n",
    "\n",
    "    for palavra in palavras_chave:\n",
    "        # Filtra as linhas baseado no nome do arquivo, não na pasta\n",
    "        filtro = df.apply(lambda x: x.apply(lambda y: palavra in os.path.basename(y).lower() if pd.notnull(y) else False))\n",
    "        linhas_filtradas = df[filtro.any(axis=1)]\n",
    "        linhas_filtradas = linhas_filtradas.drop_duplicates()\n",
    "\n",
    "        if not linhas_filtradas.empty:\n",
    "            found_any = True\n",
    "            palavras_salvas.append(palavra)  # Adiciona a palavra-chave à lista de palavras salvas\n",
    "            # Escreve o comando para criar o diretório e inicia a seção de cópia\n",
    "            file.write(f\"mkdir -p /Users/gabrielmatheus/Downloads/GabrielMatheus/{palavra.capitalize()}\\n\")\n",
    "            file.write(\"for file in \\\\\\n\")\n",
    "            for index, row in linhas_filtradas.iterrows():\n",
    "                formatted_row = '\\t'.join(row)\n",
    "                if index == linhas_filtradas.index[-1]:\n",
    "                    file.write(f\"  '{formatted_row}'\\n\")  # Sem barra no final\n",
    "                else:\n",
    "                    file.write(f\"  '{formatted_row}' \\\\\\n\")\n",
    "            file.write(\"do\\n\")\n",
    "            file.write(f'  cp \"$file\" /Users/gabrielmatheus/Downloads/GabrielMatheus/{palavra.capitalize()}/\\n')\n",
    "            file.write(\"done\\n\\n\")\n",
    "        else:\n",
    "            print(f\"A palavra-chave '{palavra}' não foi encontrada em nenhum arquivo.\")\n",
    "\n",
    "    if found_any:\n",
    "        print(f\"Palavras-chave encontradas e salvas no arquivo: {', '.join(palavras_salvas)}\")\n",
    "    else:\n",
    "        print(\"Nenhuma das palavras-chave especificadas foi encontrada em nenhum arquivo.\")"
   ]
  }
 ],
 "metadata": {
  "kernelspec": {
   "display_name": "base",
   "language": "python",
   "name": "python3"
  },
  "language_info": {
   "codemirror_mode": {
    "name": "ipython",
    "version": 3
   },
   "file_extension": ".py",
   "mimetype": "text/x-python",
   "name": "python",
   "nbconvert_exporter": "python",
   "pygments_lexer": "ipython3",
   "version": "3.11.5"
  }
 },
 "nbformat": 4,
 "nbformat_minor": 2
}
